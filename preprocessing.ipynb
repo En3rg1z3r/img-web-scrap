{
 "cells": [
  {
   "cell_type": "code",
   "execution_count": 6,
   "source": [
    "import matplotlib\n",
    "import matplotlib.pyplot as plt\n",
    "import numpy as np\n",
    "\n",
    "import tensorflow as tf\n",
    "from tensorflow.keras import layers\n",
    "\n",
    "from skimage import io #imread_collection\n",
    "from skimage import data, img_as_float\n",
    "from skimage import exposure\n",
    "from skimage.transform import rescale, resize\n",
    "from skimage.color import rgb2gray \n",
    "import os"
   ],
   "outputs": [],
   "metadata": {}
  },
  {
   "cell_type": "code",
   "execution_count": 3,
   "source": [
    "def preprocessing_fct(img):\n",
    "    return exposure.adjust_sigmoid(resize(img, (32,32))) #modify this if you need"
   ],
   "outputs": [],
   "metadata": {}
  },
  {
   "cell_type": "code",
   "execution_count": 4,
   "source": [
    "def preprocessing_dir(path) :\n",
    "    classes = os.listdir(path)\n",
    "    for cl in classes:\n",
    "        i=0\n",
    "        col = io.imread_collection('Raw_Data/' + cl + '/*.jpg')\n",
    "        if not os.path.exists('preprocessed/'+cl):\n",
    "            os.makedirs('preprocessed/'+cl)\n",
    "        for img in col:\n",
    "            preprocessed = preprocessing_fct(img)\n",
    "            io.imsave('preprocessed/'+cl+'/'+cl+str(i)+'.jpg',preprocessed)\n",
    "            i+=1\n",
    "    "
   ],
   "outputs": [],
   "metadata": {}
  },
  {
   "cell_type": "code",
   "execution_count": 52,
   "source": [
    "preprocessing_dir(\"Raw_Data\")"
   ],
   "outputs": [],
   "metadata": {}
  },
  {
   "cell_type": "code",
   "execution_count": 8,
   "source": [
    "data_augmentation = tf.keras.Sequential([\n",
    "  \n",
    "  layers.experimental.preprocessing.Rescaling(1./255),\n",
    "  layers.experimental.preprocessing.RandomFlip(\"horizontal_and_vertical\"),\n",
    "  layers.experimental.preprocessing.RandomRotation(0.2),\n",
    "])"
   ],
   "outputs": [],
   "metadata": {}
  },
  {
   "cell_type": "code",
   "execution_count": 44,
   "source": [
    "#expand dims if you wanna preview\n",
    "def data_aug(preprocessed_path):\n",
    "    classes = os.listdir(preprocessed_path)\n",
    "    for cl in classes:\n",
    "        i=0\n",
    "        col = io.imread_collection('preprocessed/' + cl + '/*.jpg')\n",
    "        if not os.path.exists('augmented/'+cl):\n",
    "            os.makedirs('augmented/'+cl)\n",
    "        for image in col:\n",
    "            augmented_image = data_augmentation(image)\n",
    "            for j in range(11):\n",
    "                io.imsave('augmented/'+cl+'/'+cl+str(i)+'_'+str(j)+'.jpg', augmented_image[j].numpy())\n",
    "            i+=1\n"
   ],
   "outputs": [],
   "metadata": {}
  },
  {
   "cell_type": "code",
   "execution_count": null,
   "source": [
    "data_aug('preprocessed')"
   ],
   "outputs": [],
   "metadata": {}
  },
  {
   "cell_type": "code",
   "execution_count": null,
   "source": [],
   "outputs": [],
   "metadata": {}
  }
 ],
 "metadata": {
  "orig_nbformat": 4,
  "language_info": {
   "name": "python",
   "version": "3.9.2",
   "mimetype": "text/x-python",
   "codemirror_mode": {
    "name": "ipython",
    "version": 3
   },
   "pygments_lexer": "ipython3",
   "nbconvert_exporter": "python",
   "file_extension": ".py"
  },
  "kernelspec": {
   "name": "python3",
   "display_name": "Python 3.9.2 64-bit"
  },
  "interpreter": {
   "hash": "e7370f93d1d0cde622a1f8e1c04877d8463912d04d973331ad4851f04de6915a"
  }
 },
 "nbformat": 4,
 "nbformat_minor": 2
}